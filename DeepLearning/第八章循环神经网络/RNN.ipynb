{
 "cells": [
  {
   "cell_type": "code",
   "execution_count": 1,
   "id": "2b9fcd92",
   "metadata": {},
   "outputs": [],
   "source": [
    "import torch"
   ]
  },
  {
   "cell_type": "code",
   "execution_count": 2,
   "id": "210ad966",
   "metadata": {},
   "outputs": [],
   "source": [
    "batch_size = 1\n",
    "seq_len = 3\n",
    "input_size = 4\n",
    "hidden_size = 2\n",
    "num_layers = 1"
   ]
  },
  {
   "cell_type": "code",
   "execution_count": 3,
   "id": "769bbeb8",
   "metadata": {},
   "outputs": [],
   "source": [
    "cell = torch.nn.RNN(input_size=input_size, hidden_size=hidden_size,\n",
    "                   num_layers=num_layers)"
   ]
  },
  {
   "cell_type": "code",
   "execution_count": 4,
   "id": "f45c5024",
   "metadata": {},
   "outputs": [],
   "source": [
    "# (seqLen, batchSize, inputSize)\n",
    "inputs = torch.randn(seq_len, batch_size, input_size)\n",
    "hidden = torch.zeros(num_layers, batch_size, hidden_size)"
   ]
  },
  {
   "cell_type": "code",
   "execution_count": 5,
   "id": "15490b1f",
   "metadata": {},
   "outputs": [],
   "source": [
    "out, hidden = cell(inputs, hidden)  # 注意这里和RNN Cell 的区别"
   ]
  },
  {
   "cell_type": "code",
   "execution_count": 6,
   "id": "7833da27",
   "metadata": {},
   "outputs": [
    {
     "name": "stdout",
     "output_type": "stream",
     "text": [
      "Output size:  torch.Size([3, 1, 2])\n",
      "Output:  tensor([[[ 0.4291, -0.7893]],\n",
      "\n",
      "        [[ 0.6881, -0.2364]],\n",
      "\n",
      "        [[ 0.0481, -0.8138]]], grad_fn=<StackBackward>)\n",
      "Hidden size:  torch.Size([1, 1, 2])\n",
      "Hidden:  tensor([[[ 0.0481, -0.8138]]], grad_fn=<StackBackward>)\n"
     ]
    }
   ],
   "source": [
    "print('Output size: ', out.shape)\n",
    "print('Output: ', out)\n",
    "print('Hidden size: ', hidden.shape)\n",
    "print('Hidden: ', hidden)"
   ]
  }
 ],
 "metadata": {
  "kernelspec": {
   "display_name": "Python 3 (ipykernel)",
   "language": "python",
   "name": "python3"
  },
  "language_info": {
   "codemirror_mode": {
    "name": "ipython",
    "version": 3
   },
   "file_extension": ".py",
   "mimetype": "text/x-python",
   "name": "python",
   "nbconvert_exporter": "python",
   "pygments_lexer": "ipython3",
   "version": "3.7.13"
  }
 },
 "nbformat": 4,
 "nbformat_minor": 5
}
