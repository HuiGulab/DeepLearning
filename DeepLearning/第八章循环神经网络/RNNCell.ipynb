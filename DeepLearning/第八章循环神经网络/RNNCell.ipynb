{
 "cells": [
  {
   "cell_type": "code",
   "execution_count": 1,
   "id": "64179aaf",
   "metadata": {},
   "outputs": [],
   "source": [
    "import torch"
   ]
  },
  {
   "cell_type": "markdown",
   "id": "fe36d28c",
   "metadata": {},
   "source": [
    "# 设定初始参数"
   ]
  },
  {
   "cell_type": "code",
   "execution_count": 2,
   "id": "eabd5e37",
   "metadata": {},
   "outputs": [],
   "source": [
    "batch_size = 1\n",
    "seq_len = 3  # 序列长度，可以理解为输入字符串长度\n",
    "input_size = 4  # 输入大小，可以理解为向量的大小\n",
    "hidden_size = 2  # 隐层大小"
   ]
  },
  {
   "cell_type": "markdown",
   "id": "c324c8dc",
   "metadata": {},
   "source": [
    "# 建立模型"
   ]
  },
  {
   "cell_type": "code",
   "execution_count": 4,
   "id": "0ce39dbf",
   "metadata": {},
   "outputs": [],
   "source": [
    "cell = torch.nn.RNNCell(input_size=input_size, hidden_size=hidden_size)\n",
    "# 注意这里调用的是RNNCell"
   ]
  },
  {
   "cell_type": "markdown",
   "id": "87b28615",
   "metadata": {},
   "source": [
    "# 初始化数据"
   ]
  },
  {
   "cell_type": "code",
   "execution_count": 3,
   "id": "7faef1fb",
   "metadata": {},
   "outputs": [],
   "source": [
    "# (seq, batch, features)\n",
    "dataset = torch.randn(seq_len, batch_size, input_size)\n",
    "hidden = torch.zeros(batch_size, hidden_size)"
   ]
  },
  {
   "cell_type": "markdown",
   "id": "6b96ad0e",
   "metadata": {},
   "source": [
    "# 调用模型"
   ]
  },
  {
   "cell_type": "code",
   "execution_count": 5,
   "id": "ecaca92e",
   "metadata": {},
   "outputs": [
    {
     "name": "stdout",
     "output_type": "stream",
     "text": [
      "==================== 0 ====================\n",
      "Input size:  4\n",
      "outputs size:  2\n",
      "tensor([[0.4576, 0.9920]], grad_fn=<TanhBackward>)\n",
      "==================== 1 ====================\n",
      "Input size:  4\n",
      "outputs size:  2\n",
      "tensor([[0.5839, 0.4767]], grad_fn=<TanhBackward>)\n",
      "==================== 2 ====================\n",
      "Input size:  4\n",
      "outputs size:  2\n",
      "tensor([[-0.9072, -0.1955]], grad_fn=<TanhBackward>)\n"
     ]
    }
   ],
   "source": [
    "for idx, input in enumerate(dataset):\n",
    "    print('=' * 20, idx, '=' * 20)\n",
    "    print('Input size: ', input_size)\n",
    "    \n",
    "    hidden = cell(input, hidden)\n",
    "    \n",
    "    print('outputs size: ', hidden_size)\n",
    "    print(hidden)"
   ]
  }
 ],
 "metadata": {
  "kernelspec": {
   "display_name": "Python 3 (ipykernel)",
   "language": "python",
   "name": "python3"
  },
  "language_info": {
   "codemirror_mode": {
    "name": "ipython",
    "version": 3
   },
   "file_extension": ".py",
   "mimetype": "text/x-python",
   "name": "python",
   "nbconvert_exporter": "python",
   "pygments_lexer": "ipython3",
   "version": "3.7.13"
  }
 },
 "nbformat": 4,
 "nbformat_minor": 5
}
