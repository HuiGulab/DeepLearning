{
 "cells": [
  {
   "cell_type": "code",
   "execution_count": 1,
   "id": "8f827956",
   "metadata": {},
   "outputs": [],
   "source": [
    "import torch\n",
    "\n",
    "input_size = 4\n",
    "hidden_size = 4\n",
    "batch_size = 1"
   ]
  },
  {
   "cell_type": "markdown",
   "id": "03b6fc03",
   "metadata": {},
   "source": [
    "# 准备数据"
   ]
  },
  {
   "cell_type": "code",
   "execution_count": 2,
   "id": "9a7c1699",
   "metadata": {},
   "outputs": [],
   "source": [
    "idx2char = ['e', 'h', 'l', 'o']  # h:0, e:1, l:2, o:3\n",
    "x_data = [1, 0, 2, 2, 3]  # hello\n",
    "y_data = [3, 1, 2, 3, 2]  # oelol\n",
    "\n",
    "one_hot_lookup = [[1, 0, 0, 0],\n",
    "                 [0, 1, 0, 0],\n",
    "                 [0, 0, 1, 0],\n",
    "                 [0, 0, 0, 1]]\n",
    "x_one_hot = [one_hot_lookup[x] for x in x_data]  # 生成hello的独热编码"
   ]
  },
  {
   "cell_type": "code",
   "execution_count": 3,
   "id": "b66923d5",
   "metadata": {},
   "outputs": [
    {
     "data": {
      "text/plain": [
       "[[0, 1, 0, 0], [1, 0, 0, 0], [0, 0, 1, 0], [0, 0, 1, 0], [0, 0, 0, 1]]"
      ]
     },
     "execution_count": 3,
     "metadata": {},
     "output_type": "execute_result"
    }
   ],
   "source": [
    "x_one_hot"
   ]
  },
  {
   "cell_type": "code",
   "execution_count": 4,
   "id": "abbcaedb",
   "metadata": {},
   "outputs": [],
   "source": [
    "inputs = torch.Tensor(x_one_hot).view(-1, batch_size, input_size) \n",
    "labels = torch.LongTensor(y_data).view(-1, 1)"
   ]
  },
  {
   "cell_type": "code",
   "execution_count": 5,
   "id": "181a98a4",
   "metadata": {},
   "outputs": [
    {
     "data": {
      "text/plain": [
       "tensor([[[0., 1., 0., 0.]],\n",
       "\n",
       "        [[1., 0., 0., 0.]],\n",
       "\n",
       "        [[0., 0., 1., 0.]],\n",
       "\n",
       "        [[0., 0., 1., 0.]],\n",
       "\n",
       "        [[0., 0., 0., 1.]]])"
      ]
     },
     "execution_count": 5,
     "metadata": {},
     "output_type": "execute_result"
    }
   ],
   "source": [
    "inputs   # (5, 1, 4)"
   ]
  },
  {
   "cell_type": "code",
   "execution_count": 6,
   "id": "a8ebf6a0",
   "metadata": {},
   "outputs": [
    {
     "data": {
      "text/plain": [
       "tensor([[3],\n",
       "        [1],\n",
       "        [2],\n",
       "        [3],\n",
       "        [2]])"
      ]
     },
     "execution_count": 6,
     "metadata": {},
     "output_type": "execute_result"
    }
   ],
   "source": [
    "labels"
   ]
  },
  {
   "cell_type": "markdown",
   "id": "2c293154",
   "metadata": {},
   "source": [
    "# 定义模型并生成"
   ]
  },
  {
   "cell_type": "code",
   "execution_count": 7,
   "id": "258f456a",
   "metadata": {},
   "outputs": [],
   "source": [
    "class Model(torch.nn.Module):\n",
    "    def __init__(self, input_size, hidden_size, batch_size):\n",
    "        super(Model, self).__init__()\n",
    "        self.batch_size = batch_size\n",
    "        self.input_size = input_size\n",
    "        self.hidden_size = hidden_size\n",
    "        self.rnncell = torch.nn.RNNCell(input_size=self.input_size,\n",
    "                                       hidden_size=self.hidden_size)\n",
    "        \n",
    "    def forward(self, input, hidden):  # 生成隐层\n",
    "        hidden = self.rnncell(input, hidden)\n",
    "        return hidden\n",
    "    \n",
    "    def init_hidden(self):  # 生成初始化的全零的h0\n",
    "        return torch.zeros(self.batch_size, self.hidden_size)\n",
    "    \n",
    "net = Model(input_size, hidden_size, batch_size)"
   ]
  },
  {
   "cell_type": "markdown",
   "id": "f3aa43e4",
   "metadata": {},
   "source": [
    "# 训练过程"
   ]
  },
  {
   "cell_type": "code",
   "execution_count": 8,
   "id": "94530ff1",
   "metadata": {},
   "outputs": [],
   "source": [
    "criterion = torch.nn.CrossEntropyLoss()  # 交叉熵计算损失\n",
    "optimizer = torch.optim.Adam(net.parameters(), lr=0.1)  # 优化器"
   ]
  },
  {
   "cell_type": "markdown",
   "id": "2d50125f",
   "metadata": {},
   "source": [
    "# 使用RNN Cell"
   ]
  },
  {
   "cell_type": "code",
   "execution_count": 9,
   "id": "158bac3c",
   "metadata": {},
   "outputs": [
    {
     "name": "stdout",
     "output_type": "stream",
     "text": [
      "Predicted string: oholo, Epoch [1/15] loss=5.4520\n",
      "Predicted string: ooolo, Epoch [2/15] loss=4.8232\n",
      "Predicted string: oolll, Epoch [3/15] loss=4.5272\n",
      "Predicted string: ohlol, Epoch [4/15] loss=4.2553\n",
      "Predicted string: ohlol, Epoch [5/15] loss=3.9649\n",
      "Predicted string: ohlol, Epoch [6/15] loss=3.6029\n",
      "Predicted string: ohlol, Epoch [7/15] loss=3.1870\n",
      "Predicted string: ohlol, Epoch [8/15] loss=2.7634\n",
      "Predicted string: ohlol, Epoch [9/15] loss=2.4562\n",
      "Predicted string: ohlol, Epoch [10/15] loss=2.2705\n",
      "Predicted string: ohlol, Epoch [11/15] loss=2.1491\n",
      "Predicted string: ohlol, Epoch [12/15] loss=2.0704\n",
      "Predicted string: ohlol, Epoch [13/15] loss=2.0208\n",
      "Predicted string: ohlol, Epoch [14/15] loss=1.9786\n",
      "Predicted string: ohlol, Epoch [15/15] loss=1.9357\n",
      "Predicted string: ohlol, Epoch [16/15] loss=1.8953\n",
      "Predicted string: ohlol, Epoch [17/15] loss=1.8600\n",
      "Predicted string: ohlol, Epoch [18/15] loss=1.8304\n",
      "Predicted string: ohlol, Epoch [19/15] loss=1.8068\n",
      "Predicted string: ohlol, Epoch [20/15] loss=1.7886\n"
     ]
    }
   ],
   "source": [
    "for epoch in range(20):\n",
    "    loss = 0\n",
    "    optimizer.zero_grad()\n",
    "    hidden = net.init_hidden()\n",
    "    print('Predicted string: ', end='')\n",
    "    for input, label in zip(inputs, labels):\n",
    "        hidden = net(input, hidden)\n",
    "        loss += criterion(hidden, label)\n",
    "        _, idx = hidden.max(dim=1)\n",
    "        print(idx2char[idx.item()], end='')\n",
    "    loss.backward()\n",
    "    optimizer.step()\n",
    "    print(', Epoch [%d/15] loss=%.4f' % (epoch+1, loss.item()))"
   ]
  }
 ],
 "metadata": {
  "kernelspec": {
   "display_name": "Python 3 (ipykernel)",
   "language": "python",
   "name": "python3"
  },
  "language_info": {
   "codemirror_mode": {
    "name": "ipython",
    "version": 3
   },
   "file_extension": ".py",
   "mimetype": "text/x-python",
   "name": "python",
   "nbconvert_exporter": "python",
   "pygments_lexer": "ipython3",
   "version": "3.7.13"
  }
 },
 "nbformat": 4,
 "nbformat_minor": 5
}
