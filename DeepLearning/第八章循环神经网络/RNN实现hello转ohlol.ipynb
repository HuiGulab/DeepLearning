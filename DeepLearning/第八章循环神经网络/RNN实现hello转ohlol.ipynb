{
 "cells": [
  {
   "cell_type": "code",
   "execution_count": 1,
   "id": "596f72fb",
   "metadata": {},
   "outputs": [],
   "source": [
    "import torch\n",
    "\n",
    "batch_size = 1\n",
    "seq_len = 5\n",
    "input_size = 4\n",
    "hidden_size = 4\n",
    "num_layers = 1"
   ]
  },
  {
   "cell_type": "markdown",
   "id": "1fed3b2d",
   "metadata": {},
   "source": [
    "# 生成数据"
   ]
  },
  {
   "cell_type": "code",
   "execution_count": 2,
   "id": "da8b175b",
   "metadata": {},
   "outputs": [],
   "source": [
    "idx2char = ['e', 'h', 'l', 'o']\n",
    "x_data = [1, 0, 2, 2, 3]\n",
    "y_data = [3, 1, 2, 3, 2]\n",
    "\n",
    "one_hot_lookup = [[1, 0, 0, 0],\n",
    "                 [0, 1, 0, 0],\n",
    "                 [0, 0, 1, 0],\n",
    "                 [0, 0, 0, 1]]\n",
    "x_one_hot = [one_hot_lookup[x] for x in x_data]  # 生成独热向量\n",
    "\n",
    "inputs = torch.Tensor(x_one_hot).view(seq_len, batch_size, input_size)\n",
    "labels = torch.LongTensor(y_data)"
   ]
  },
  {
   "cell_type": "markdown",
   "id": "7275381d",
   "metadata": {},
   "source": [
    "# 定义模型"
   ]
  },
  {
   "cell_type": "code",
   "execution_count": 3,
   "id": "17e45d14",
   "metadata": {},
   "outputs": [],
   "source": [
    "class Model(torch.nn.Module):\n",
    "    def __init__(self, input_size, hidden_size, batch_size, num_layers=1):\n",
    "        \"\"\"\n",
    "        继承Module类\n",
    "        super超类\n",
    "        重写__init__, forward方法\n",
    "        调用RNN函数\n",
    "        \"\"\"\n",
    "        super(Model, self).__init__()\n",
    "        self.num_layers = num_layers\n",
    "        self.batch_size = batch_size\n",
    "        self.input_size = input_size\n",
    "        self.hidden_size = hidden_size\n",
    "        self.rnn = torch.nn.RNN(input_size=self.input_size,\n",
    "                               hidden_size=self.hidden_size,\n",
    "                               num_layers=num_layers)\n",
    "    \n",
    "    def forward(self, input):\n",
    "        hidden = torch.zeros(self.num_layers,\n",
    "                            self.batch_size,\n",
    "                            self.hidden_size)\n",
    "        out, _ = self.rnn(input, hidden)\n",
    "        \n",
    "        return out.view(-1, self.hidden_size)"
   ]
  },
  {
   "cell_type": "code",
   "execution_count": 4,
   "id": "435d27e4",
   "metadata": {},
   "outputs": [],
   "source": [
    "net = Model(input_size, hidden_size, batch_size, num_layers)\n",
    "criterion = torch.nn.CrossEntropyLoss()\n",
    "optimizer = torch.optim.Adam(net.parameters(), lr=0.05)"
   ]
  },
  {
   "cell_type": "code",
   "execution_count": 5,
   "id": "0a561387",
   "metadata": {},
   "outputs": [
    {
     "name": "stdout",
     "output_type": "stream",
     "text": [
      "Predicted:  ooooo, Epoch [1/15] loss = 1.379\n",
      "Predicted:  ooooo, Epoch [2/15] loss = 1.243\n",
      "Predicted:  ooooo, Epoch [3/15] loss = 1.120\n",
      "Predicted:  ohloo, Epoch [4/15] loss = 1.028\n",
      "Predicted:  hhlol, Epoch [5/15] loss = 0.968\n",
      "Predicted:  hhlol, Epoch [6/15] loss = 0.924\n",
      "Predicted:  hhlol, Epoch [7/15] loss = 0.882\n",
      "Predicted:  hhlol, Epoch [8/15] loss = 0.836\n",
      "Predicted:  ohlol, Epoch [9/15] loss = 0.789\n",
      "Predicted:  ohlol, Epoch [10/15] loss = 0.743\n",
      "Predicted:  ohlol, Epoch [11/15] loss = 0.701\n",
      "Predicted:  ohlol, Epoch [12/15] loss = 0.664\n",
      "Predicted:  ohlol, Epoch [13/15] loss = 0.631\n",
      "Predicted:  ohlol, Epoch [14/15] loss = 0.601\n",
      "Predicted:  ohlol, Epoch [15/15] loss = 0.575\n",
      "Predicted:  ohlol, Epoch [16/15] loss = 0.551\n",
      "Predicted:  ohlol, Epoch [17/15] loss = 0.530\n",
      "Predicted:  ohlol, Epoch [18/15] loss = 0.510\n",
      "Predicted:  ohlol, Epoch [19/15] loss = 0.491\n",
      "Predicted:  ohlol, Epoch [20/15] loss = 0.475\n",
      "Predicted:  ohlol, Epoch [21/15] loss = 0.460\n",
      "Predicted:  ohlol, Epoch [22/15] loss = 0.447\n",
      "Predicted:  ohlol, Epoch [23/15] loss = 0.436\n",
      "Predicted:  ohlol, Epoch [24/15] loss = 0.427\n",
      "Predicted:  ohlol, Epoch [25/15] loss = 0.419\n",
      "Predicted:  ohlol, Epoch [26/15] loss = 0.413\n",
      "Predicted:  ohlol, Epoch [27/15] loss = 0.407\n",
      "Predicted:  ohlol, Epoch [28/15] loss = 0.401\n",
      "Predicted:  ohlol, Epoch [29/15] loss = 0.397\n",
      "Predicted:  ohlol, Epoch [30/15] loss = 0.392\n"
     ]
    }
   ],
   "source": [
    "for epoch in range(30):\n",
    "    optimizer.zero_grad()\n",
    "    outputs = net(inputs)\n",
    "    loss = criterion(outputs, labels)\n",
    "    loss.backward()\n",
    "    optimizer.step()\n",
    "    _, idx = outputs.max(dim=1)\n",
    "    idx = idx.data.numpy()\n",
    "    print('Predicted: ', ''.join([idx2char[x] for x in idx]), end='')\n",
    "    print(', Epoch [%d/15] loss = %.3f' % (epoch + 1, loss.item()))"
   ]
  },
  {
   "cell_type": "code",
   "execution_count": null,
   "id": "72825646",
   "metadata": {},
   "outputs": [],
   "source": []
  }
 ],
 "metadata": {
  "kernelspec": {
   "display_name": "Python 3 (ipykernel)",
   "language": "python",
   "name": "python3"
  },
  "language_info": {
   "codemirror_mode": {
    "name": "ipython",
    "version": 3
   },
   "file_extension": ".py",
   "mimetype": "text/x-python",
   "name": "python",
   "nbconvert_exporter": "python",
   "pygments_lexer": "ipython3",
   "version": "3.7.13"
  }
 },
 "nbformat": 4,
 "nbformat_minor": 5
}
