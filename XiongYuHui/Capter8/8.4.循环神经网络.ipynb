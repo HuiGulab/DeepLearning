{
 "cells": [
  {
   "cell_type": "markdown",
   "id": "b2106d1a",
   "metadata": {},
   "source": [
    "图8.4.1展示了循环神经网络在三个相邻时间步的计算逻辑。 在任意时间步，隐状态的计算可以被视为：\n",
    "- 拼接当前时间步t的输入Xt 和 前一时间步t-1的隐状态Ht-1\n",
    "- 将拼接的结果送入带有激活函数 的全连接层。全连接层的输出是当前时间步t的隐状态Ht。"
   ]
  },
  {
   "cell_type": "code",
   "execution_count": 2,
   "id": "d1735144",
   "metadata": {},
   "outputs": [
    {
     "data": {
      "text/plain": [
       "tensor([[ 1.0766, -0.2537,  1.7137, -0.9109],\n",
       "        [-0.6683,  1.4467,  0.7454,  6.5134],\n",
       "        [-0.0475,  0.6361, -0.0836,  1.2248]])"
      ]
     },
     "execution_count": 2,
     "metadata": {},
     "output_type": "execute_result"
    }
   ],
   "source": [
    "import torch\n",
    "from d2l import torch as d2l\n",
    "\n",
    "X,W_xh = torch.normal(0,1,(3,1)), torch.normal(0,1,(1,4))\n",
    "H, W_hh = torch.normal(0,1,(3,4)), torch.normal(0,1,(4,4))\n",
    "torch.matmul(X , W_xh) + torch.matmul(H , W_hh)"
   ]
  },
  {
   "cell_type": "code",
   "execution_count": 3,
   "id": "0ee21fc8",
   "metadata": {},
   "outputs": [
    {
     "data": {
      "text/plain": [
       "tensor([[ 1.0766, -0.2537,  1.7137, -0.9109],\n",
       "        [-0.6683,  1.4467,  0.7454,  6.5134],\n",
       "        [-0.0475,  0.6361, -0.0836,  1.2248]])"
      ]
     },
     "execution_count": 3,
     "metadata": {},
     "output_type": "execute_result"
    }
   ],
   "source": [
    "torch.matmul(torch.cat((X,H),1),torch.cat((W_xh , W_hh),0))"
   ]
  },
  {
   "cell_type": "markdown",
   "id": "d66e61e9",
   "metadata": {},
   "source": [
    "接下来，我们看一下如何使用循环神经网络来构建语言模型。 "
   ]
  },
  {
   "cell_type": "code",
   "execution_count": null,
   "id": "b4bf3db0",
   "metadata": {},
   "outputs": [],
   "source": []
  }
 ],
 "metadata": {
  "kernelspec": {
   "display_name": "Python 3 (ipykernel)",
   "language": "python",
   "name": "python3"
  },
  "language_info": {
   "codemirror_mode": {
    "name": "ipython",
    "version": 3
   },
   "file_extension": ".py",
   "mimetype": "text/x-python",
   "name": "python",
   "nbconvert_exporter": "python",
   "pygments_lexer": "ipython3",
   "version": "3.9.7"
  }
 },
 "nbformat": 4,
 "nbformat_minor": 5
}
