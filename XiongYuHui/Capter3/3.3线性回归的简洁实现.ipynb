{
 "cells": [
  {
   "cell_type": "code",
   "execution_count": 1,
   "id": "6b36c6fa",
   "metadata": {},
   "outputs": [],
   "source": [
    "import numpy as np\n",
    "import torch\n",
    "from torch.utils import data\n",
    "from d2l import torch as d2l\n",
    "\n",
    "true_w = torch.tensor([2,-3.4])\n",
    "true_b = 4.2\n",
    "feature,labels = d2l.synthetic_data(true_w,true_b,1000)"
   ]
  },
  {
   "cell_type": "markdown",
   "id": "a3ba3487",
   "metadata": {},
   "source": [
    "调用框架中现有的API来读取数据"
   ]
  },
  {
   "cell_type": "code",
   "execution_count": 3,
   "id": "db157e48",
   "metadata": {},
   "outputs": [
    {
     "data": {
      "text/plain": [
       "[tensor([[-0.3041,  0.9025],\n",
       "         [ 0.4865, -0.8289],\n",
       "         [-1.1463, -0.8677],\n",
       "         [-1.1988,  0.9597],\n",
       "         [ 1.3299, -1.7020],\n",
       "         [-0.2275, -1.7618],\n",
       "         [ 0.9502,  1.1699],\n",
       "         [ 2.2045,  0.3036],\n",
       "         [ 0.8699, -0.1983],\n",
       "         [-1.3189, -0.3303]]),\n",
       " tensor([[ 0.5129],\n",
       "         [ 7.9834],\n",
       "         [ 4.8703],\n",
       "         [-1.4544],\n",
       "         [12.6506],\n",
       "         [ 9.7458],\n",
       "         [ 2.1168],\n",
       "         [ 7.5705],\n",
       "         [ 6.6119],\n",
       "         [ 2.6793]])]"
      ]
     },
     "execution_count": 3,
     "metadata": {},
     "output_type": "execute_result"
    }
   ],
   "source": [
    "def load_array(data_arrays,batch_size,is_train=True):\n",
    "    '''构造一个PyTorch数据迭代器'''\n",
    "    dataset = data.TensorDataset(*data_arrays)\n",
    "    return data.DataLoader(dataset,batch_size,shuffle=is_train)\n",
    "batch_size=10\n",
    "data_iter = load_array((feature,labels),batch_size)\n",
    "next(iter(data_iter))"
   ]
  },
  {
   "cell_type": "markdown",
   "id": "a91d748c",
   "metadata": {},
   "source": [
    "使用框架的预定义好的层"
   ]
  },
  {
   "cell_type": "code",
   "execution_count": 4,
   "id": "060d6c8b",
   "metadata": {},
   "outputs": [],
   "source": [
    "# nn 是神经网络的缩写\n",
    "from torch import nn\n",
    "\n",
    "net = nn.Sequential(nn.Linear(2,1))"
   ]
  },
  {
   "cell_type": "markdown",
   "id": "5b5de73e",
   "metadata": {},
   "source": [
    "初始化模型参数"
   ]
  },
  {
   "cell_type": "code",
   "execution_count": 5,
   "id": "29f14788",
   "metadata": {},
   "outputs": [
    {
     "data": {
      "text/plain": [
       "tensor([0.])"
      ]
     },
     "execution_count": 5,
     "metadata": {},
     "output_type": "execute_result"
    }
   ],
   "source": [
    "net[0].weight.data.normal_(0,0.01)\n",
    "net[0].bias.data.fill_(0)"
   ]
  },
  {
   "cell_type": "markdown",
   "id": "9478b1a3",
   "metadata": {},
   "source": [
    "计算均方误差使用的是MSEloss类 也成为平方L2范式"
   ]
  },
  {
   "cell_type": "code",
   "execution_count": 10,
   "id": "124c3b5b",
   "metadata": {},
   "outputs": [],
   "source": [
    "loss = nn.MSELoss()"
   ]
  },
  {
   "cell_type": "markdown",
   "id": "6130e012",
   "metadata": {},
   "source": [
    "实例化SGD实例"
   ]
  },
  {
   "cell_type": "code",
   "execution_count": 13,
   "id": "3afba577",
   "metadata": {},
   "outputs": [],
   "source": [
    "trainer = torch.optim.SGD(net.parameters(),lr=0.01)"
   ]
  },
  {
   "cell_type": "markdown",
   "id": "062dffa5",
   "metadata": {},
   "source": [
    "训练过程代码与我们从0开始实现时做的非常相似"
   ]
  },
  {
   "cell_type": "code",
   "execution_count": 15,
   "id": "efb442ab",
   "metadata": {},
   "outputs": [
    {
     "name": "stdout",
     "output_type": "stream",
     "text": [
      "epoch1,loss0.000100\n",
      "epoch2,loss0.000100\n",
      "epoch3,loss0.000100\n"
     ]
    }
   ],
   "source": [
    "num_epochs = 3\n",
    "for epoch in range(num_epochs):\n",
    "    for X, y in data_iter:\n",
    "        l = loss(net(X),y)\n",
    "        trainer.zero_grad()\n",
    "        l.backward()\n",
    "        trainer.step()\n",
    "    l = loss(net(feature),labels)\n",
    "    print(f'epoch{epoch + 1},loss{l:f}')"
   ]
  },
  {
   "cell_type": "code",
   "execution_count": null,
   "id": "01e5e16e",
   "metadata": {},
   "outputs": [],
   "source": []
  }
 ],
 "metadata": {
  "kernelspec": {
   "display_name": "Python 3 (ipykernel)",
   "language": "python",
   "name": "python3"
  },
  "language_info": {
   "codemirror_mode": {
    "name": "ipython",
    "version": 3
   },
   "file_extension": ".py",
   "mimetype": "text/x-python",
   "name": "python",
   "nbconvert_exporter": "python",
   "pygments_lexer": "ipython3",
   "version": "3.9.12"
  }
 },
 "nbformat": 4,
 "nbformat_minor": 5
}
