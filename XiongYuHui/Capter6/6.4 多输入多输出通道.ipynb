{
 "cells": [
  {
   "cell_type": "markdown",
   "id": "015be233",
   "metadata": {},
   "source": [
    "### 6.4.1. 多输入通道"
   ]
  },
  {
   "cell_type": "code",
   "execution_count": 1,
   "id": "466cb660",
   "metadata": {},
   "outputs": [],
   "source": [
    "import  torch\n",
    "from d2l import torch as d2l\n",
    "\n",
    "def corr2d_multi_in(X,K):\n",
    "    # 先遍历\"X\"和\"K\"的第0个维度 再把他们加在一起\n",
    "    return sum(d2l.corr2d(x,k) for x,k in zip(X,K))\n",
    "#zip 将可迭代的对象作为参数，将对象中对应的元素打包成一个个元组，\n",
    "#然后返回由这些元组组成的列表"
   ]
  },
  {
   "cell_type": "code",
   "execution_count": 2,
   "id": "9a16f566",
   "metadata": {},
   "outputs": [
    {
     "data": {
      "text/plain": [
       "tensor([[ 56.,  72.],\n",
       "        [104., 120.]])"
      ]
     },
     "execution_count": 2,
     "metadata": {},
     "output_type": "execute_result"
    }
   ],
   "source": [
    "X = torch.tensor([[[0.0, 1.0, 2.0], [3.0, 4.0, 5.0], [6.0, 7.0, 8.0]],\n",
    "               [[1.0, 2.0, 3.0], [4.0, 5.0, 6.0], [7.0, 8.0, 9.0]]])\n",
    "K = torch.tensor([[[0.0, 1.0], [2.0, 3.0]], [[1.0, 2.0], [3.0, 4.0]]])\n",
    "\n",
    "corr2d_multi_in(X, K)"
   ]
  },
  {
   "cell_type": "code",
   "execution_count": 3,
   "id": "abaaa331",
   "metadata": {},
   "outputs": [
    {
     "data": {
      "text/plain": [
       "torch.Size([2, 3, 3])"
      ]
     },
     "execution_count": 3,
     "metadata": {},
     "output_type": "execute_result"
    }
   ],
   "source": [
    "X.shape"
   ]
  },
  {
   "cell_type": "code",
   "execution_count": 4,
   "id": "d821b941",
   "metadata": {},
   "outputs": [
    {
     "data": {
      "text/plain": [
       "torch.Size([2, 2, 2])"
      ]
     },
     "execution_count": 4,
     "metadata": {},
     "output_type": "execute_result"
    }
   ],
   "source": [
    "K.shape"
   ]
  },
  {
   "cell_type": "code",
   "execution_count": 8,
   "id": "a9314700",
   "metadata": {},
   "outputs": [
    {
     "name": "stdout",
     "output_type": "stream",
     "text": [
      "tensor([[0., 1., 2.],\n",
      "        [3., 4., 5.],\n",
      "        [6., 7., 8.]]) tensor([[0., 1.],\n",
      "        [2., 3.]])\n",
      "tensor([[1., 2., 3.],\n",
      "        [4., 5., 6.],\n",
      "        [7., 8., 9.]]) tensor([[1., 2.],\n",
      "        [3., 4.]])\n"
     ]
    }
   ],
   "source": [
    "# 按照维度0 返回tensor\n",
    "for x,k in zip(X,K):\n",
    "    print(x,k)"
   ]
  },
  {
   "cell_type": "code",
   "execution_count": 9,
   "id": "735bc9cf",
   "metadata": {},
   "outputs": [],
   "source": [
    "def corr2d_multi_in_out(X, K):\n",
    "    # 迭代“K”的第0个维度，每次都对输入“X”执行互相关运算。\n",
    "    # 最后将所有结果都叠加在一起\n",
    "    return torch.stack([corr2d_multi_in(X, k) for k in K], 0)\n",
    "#官方解释：torch.stack沿着一个新维度对输入张量序列进行连接。 序列中所有的张量都应该为相同形状"
   ]
  },
  {
   "cell_type": "code",
   "execution_count": 10,
   "id": "047a6031",
   "metadata": {},
   "outputs": [
    {
     "data": {
      "text/plain": [
       "torch.Size([3, 2, 2, 2])"
      ]
     },
     "execution_count": 10,
     "metadata": {},
     "output_type": "execute_result"
    }
   ],
   "source": [
    "# 通过将核张量K与K+1（K中每个元素加）和K+2连接起来，构造了一个具有个输出通道的卷积核。\n",
    "K = torch.stack((K, K + 1, K + 2), 0)\n",
    "K.shape"
   ]
  },
  {
   "cell_type": "code",
   "execution_count": 18,
   "id": "644e5b9a",
   "metadata": {},
   "outputs": [
    {
     "data": {
      "text/plain": [
       "tensor([[[ 56.,  72.],\n",
       "         [104., 120.]],\n",
       "\n",
       "        [[ 76., 100.],\n",
       "         [148., 172.]],\n",
       "\n",
       "        [[ 96., 128.],\n",
       "         [192., 224.]]])"
      ]
     },
     "execution_count": 18,
     "metadata": {},
     "output_type": "execute_result"
    }
   ],
   "source": [
    "corr2d_multi_in_out(X, K)"
   ]
  },
  {
   "cell_type": "code",
   "execution_count": 17,
   "id": "d651afd7",
   "metadata": {},
   "outputs": [
    {
     "name": "stdout",
     "output_type": "stream",
     "text": [
      "torch.Size([3, 2, 2, 2])\n",
      "tensor([[[0., 1.],\n",
      "         [2., 3.]],\n",
      "\n",
      "        [[1., 2.],\n",
      "         [3., 4.]]])\n",
      "torch.Size([2, 2, 2])\n",
      "tensor([[[1., 2.],\n",
      "         [3., 4.]],\n",
      "\n",
      "        [[2., 3.],\n",
      "         [4., 5.]]])\n",
      "torch.Size([2, 2, 2])\n",
      "tensor([[[2., 3.],\n",
      "         [4., 5.]],\n",
      "\n",
      "        [[3., 4.],\n",
      "         [5., 6.]]])\n",
      "torch.Size([2, 2, 2])\n"
     ]
    }
   ],
   "source": [
    "print(K.shape)\n",
    "for k in K:\n",
    "    print(k)\n",
    "    print(k.shape)"
   ]
  },
  {
   "cell_type": "markdown",
   "id": "3a51979d",
   "metadata": {},
   "source": [
    "### 6.4.3.  1 * 1卷积层"
   ]
  },
  {
   "cell_type": "code",
   "execution_count": 21,
   "id": "111f4b65",
   "metadata": {},
   "outputs": [],
   "source": [
    "def corr2d_multi_in_out_1x1(X, K):\n",
    "    c_i, h, w = X.shape   \n",
    "    c_o = K.shape[0]         # 卷积核层数  c_o * c_i * 1 * 1\n",
    "    X = X.reshape((c_i, h * w)) # 将维度1 和 维度2合并\n",
    "    K = K.reshape((c_o, c_i))   # 只保留前面两维度\n",
    "    print(X)\n",
    "    print(K)\n",
    "    # 全连接层中的矩阵乘法\n",
    "    Y = torch.matmul(K, X)\n",
    "    return Y.reshape((c_o, h, w))"
   ]
  },
  {
   "cell_type": "code",
   "execution_count": 25,
   "id": "12d05b44",
   "metadata": {},
   "outputs": [
    {
     "name": "stdout",
     "output_type": "stream",
     "text": [
      "tensor([[-0.5626, -0.2498,  0.4317, -1.1678, -0.0855,  0.6968, -1.0925, -1.0602,\n",
      "         -0.3155],\n",
      "        [ 0.6989,  0.3334,  1.5342,  0.7217,  1.9935, -0.4087, -2.2295,  0.1182,\n",
      "         -1.1846],\n",
      "        [-1.1232,  1.0720, -0.2503,  1.2869, -0.5216,  0.8511,  0.2139, -1.3661,\n",
      "          1.3554]])\n",
      "tensor([[-0.9654, -0.2772, -1.1732],\n",
      "        [ 1.0578,  0.9481,  1.6589]])\n"
     ]
    },
    {
     "data": {
      "text/plain": [
       "tensor([[[ 1.6672, -1.1089, -0.5483],\n",
       "         [-0.5825,  0.1419, -1.5579],\n",
       "         [ 1.4217,  2.5935, -0.9572]],\n",
       "\n",
       "        [[-1.7959,  1.8302,  1.4960],\n",
       "         [ 1.5838,  0.9343,  1.7615],\n",
       "         [-2.9146, -3.2757,  0.7916]]])"
      ]
     },
     "execution_count": 25,
     "metadata": {},
     "output_type": "execute_result"
    }
   ],
   "source": [
    "X = torch.normal(0, 1, (3, 3, 3)) # 3 * 9 \n",
    "K = torch.normal(0, 1, (2, 3, 1, 1))  # 2 * 3\n",
    "Y1 = corr2d_multi_in_out_1x1(X, K)   #2 * 9 -> 2*3*3\n",
    "Y1"
   ]
  },
  {
   "cell_type": "markdown",
   "id": "867db648",
   "metadata": {},
   "source": [
    "### 6.4.4. 小结\n",
    "* 多输入多输出通道可以用来扩展卷积层的模型。\n",
    "\n",
    "* 当以每像素为基础应用时，卷积层相当于全连接层。\n",
    "\n",
    "* 卷积层通常用于调整网络层的通道数量和控制模型复杂性。"
   ]
  },
  {
   "cell_type": "markdown",
   "id": "2b1638e2",
   "metadata": {},
   "source": [
    "2 "
   ]
  }
 ],
 "metadata": {
  "kernelspec": {
   "display_name": "Python 3 (ipykernel)",
   "language": "python",
   "name": "python3"
  },
  "language_info": {
   "codemirror_mode": {
    "name": "ipython",
    "version": 3
   },
   "file_extension": ".py",
   "mimetype": "text/x-python",
   "name": "python",
   "nbconvert_exporter": "python",
   "pygments_lexer": "ipython3",
   "version": "3.9.7"
  }
 },
 "nbformat": 4,
 "nbformat_minor": 5
}
