{
 "cells": [
  {
   "cell_type": "markdown",
   "id": "5d731821",
   "metadata": {},
   "source": [
    "我们从头开始实现一个具有张量的批量规范化层。"
   ]
  },
  {
   "cell_type": "code",
   "execution_count": 1,
   "id": "4f534790",
   "metadata": {},
   "outputs": [],
   "source": [
    "import torch\n",
    "from torch import nn\n",
    "from d2l import torch as d2l\n",
    "\n",
    "#moving_mean 均值    moving_var 方差     gamma 拉伸   beta 偏移 eps 避免除以0\n",
    "def batch_norm(X, gamma, beta, moving_mean, moving_var, eps, momentum):\n",
    "    # 通过is_grad_enabled来判断当前模式是训练模式还是预测模式\n",
    "    if not torch.is_grad_enabled():\n",
    "        # 如果是在预测模式下，直接使用传入的移动平均所得的均值和方差\n",
    "        X_hat = (X - moving_mean) / torch.sqrt(moving_var + eps)\n",
    "    else:\n",
    "        assert len(X.shape) in (2, 4)\n",
    "        if len(X.shape) == 2:\n",
    "            # 使用全连接层的情况，计算特征维上的均值和方差\n",
    "            mean = X.mean(dim=0)\n",
    "            var = ((X - mean) ** 2).mean(dim=0)\n",
    "        else:\n",
    "            # 使用二维卷积层的情况，计算通道维上（axis=1）的均值和方差。\n",
    "            # 这里我们需要保持X的形状以便后面可以做广播运算\n",
    "            mean = X.mean(dim=(0, 2, 3), keepdim=True)\n",
    "            var = ((X - mean) ** 2).mean(dim=(0, 2, 3), keepdim=True)\n",
    "        # 训练模式下，用当前的均值和方差做标准化\n",
    "        X_hat = (X - mean) / torch.sqrt(var + eps)\n",
    "        # 更新移动平均的均值和方差\n",
    "        moving_mean = momentum * moving_mean + (1.0 - momentum) * mean\n",
    "        moving_var = momentum * moving_var + (1.0 - momentum) * var\n",
    "    Y = gamma * X_hat + beta  # 缩放和移位\n",
    "    return Y, moving_mean.data, moving_var.data"
   ]
  },
  {
   "cell_type": "code",
   "execution_count": 2,
   "id": "86ed2e18",
   "metadata": {},
   "outputs": [],
   "source": [
    "class BatchNorm(nn.Module):      # 简明实现 可以直接调用nn.BatchNorm2d()\n",
    "    # num_features:完全连接层的输出数量或卷积层的输出通道数\n",
    "    # num_dims: 2表示完全连接层，4表示卷积层\n",
    "    def __init__(self,num_features,num_dims):\n",
    "        super().__init__()\n",
    "        if num_dims == 2:\n",
    "            shape = (1, num_features)\n",
    "        else:\n",
    "            shape = (1, num_features, 1, 1)\n",
    "        # 参与求梯度和迭代的拉伸和偏移参数 分别初始化成1和0\n",
    "        self.gamma = nn.Parameter(torch.ones(shape))\n",
    "        self.beta = nn.Parameter(torch.zeros(shape))\n",
    "        # 非模型参数的变量初始化为0和1\n",
    "        self.moving_mean = torch.zeros(shape)\n",
    "        self.moving_var = torch.ones(shape)\n",
    "        \n",
    "    def forward(self,X):\n",
    "        # 如果X不在内存上 将moving_mean和moving_var 复制到X所在的显存上\n",
    "        if self.moving_mean.device != X.device:\n",
    "            self.moving_mean = self.moving_mean.to(X.device)\n",
    "            self.moving_var = self.moving_var.to(X.device)\n",
    "        # 保存更新过的moving_mean和moving_var\n",
    "        Y, self.moving_mean,self.moving_var = batch_norm(\n",
    "            X, self.gamma, self.beta, self.moving_mean,\n",
    "            self.moving_var,eps=1e-5,momentum=0.9)\n",
    "        return Y"
   ]
  },
  {
   "cell_type": "markdown",
   "id": "306291af",
   "metadata": {},
   "source": [
    "### 使用批量规范化层的 LeNet"
   ]
  },
  {
   "cell_type": "code",
   "execution_count": 5,
   "id": "89a9ac06",
   "metadata": {},
   "outputs": [],
   "source": [
    "net = nn.Sequential(\n",
    "    nn.Conv2d(1,6,kernel_size=5),BatchNorm(6,num_dims=4),nn.Sigmoid(),\n",
    "    nn.AvgPool2d(kernel_size=2,stride=2),\n",
    "    nn.Conv2d(6,16,kernel_size=5),BatchNorm(16,num_dims=4),nn.Sigmoid(),\n",
    "    nn.AvgPool2d(kernel_size=5),nn.Flatten(),\n",
    "    nn.Linear(7056,120),BatchNorm(120,num_dims=2),nn.Sigmoid(),\n",
    "    nn.Linear(120,84),BatchNorm(84,num_dims=2),nn.Sigmoid(),\n",
    "    nn.Linear(84,10) \n",
    ")"
   ]
  },
  {
   "cell_type": "code",
   "execution_count": 6,
   "id": "63e2108b",
   "metadata": {},
   "outputs": [
    {
     "name": "stdout",
     "output_type": "stream",
     "text": [
      "Conv2d output shape:\t torch.Size([1, 6, 220, 220])\n",
      "BatchNorm output shape:\t torch.Size([1, 6, 220, 220])\n",
      "Sigmoid output shape:\t torch.Size([1, 6, 220, 220])\n",
      "AvgPool2d output shape:\t torch.Size([1, 6, 110, 110])\n",
      "Conv2d output shape:\t torch.Size([1, 16, 106, 106])\n",
      "BatchNorm output shape:\t torch.Size([1, 16, 106, 106])\n",
      "Sigmoid output shape:\t torch.Size([1, 16, 106, 106])\n",
      "AvgPool2d output shape:\t torch.Size([1, 16, 21, 21])\n",
      "Flatten output shape:\t torch.Size([1, 7056])\n",
      "Linear output shape:\t torch.Size([1, 120])\n",
      "BatchNorm output shape:\t torch.Size([1, 120])\n",
      "Sigmoid output shape:\t torch.Size([1, 120])\n",
      "Linear output shape:\t torch.Size([1, 84])\n",
      "BatchNorm output shape:\t torch.Size([1, 84])\n",
      "Sigmoid output shape:\t torch.Size([1, 84])\n",
      "Linear output shape:\t torch.Size([1, 10])\n"
     ]
    }
   ],
   "source": [
    "X = torch.rand(size=(1, 1, 224, 224))\n",
    "for layer in net:\n",
    "    X = layer(X)\n",
    "    print(layer.__class__.__name__,'output shape:\\t', X.shape)"
   ]
  },
  {
   "cell_type": "markdown",
   "id": "1116531c",
   "metadata": {},
   "source": [
    "### 7.5.7. 小结\n",
    "- 在模型训练过程中，批量规范化利用小批量的均值和标准差，不断调整神经网络的中间输出，使整个神经网络各层的中间输出值更加稳定。\n",
    "\n",
    "- 批量规范化在全连接层和卷积层的使用略有不同。\n",
    "\n",
    "- 批量规范化层和暂退层一样，在训练模式和预测模式下计算不同。\n",
    "\n",
    "- 批量规范化有许多有益的副作用，主要是正则化。另一方面，”减少内部协变量偏移“的原始动机似乎不是一个有效的解释。"
   ]
  },
  {
   "cell_type": "code",
   "execution_count": null,
   "id": "14f07709",
   "metadata": {},
   "outputs": [],
   "source": []
  }
 ],
 "metadata": {
  "kernelspec": {
   "display_name": "Python 3 (ipykernel)",
   "language": "python",
   "name": "python3"
  },
  "language_info": {
   "codemirror_mode": {
    "name": "ipython",
    "version": 3
   },
   "file_extension": ".py",
   "mimetype": "text/x-python",
   "name": "python",
   "nbconvert_exporter": "python",
   "pygments_lexer": "ipython3",
   "version": "3.9.7"
  }
 },
 "nbformat": 4,
 "nbformat_minor": 5
}
