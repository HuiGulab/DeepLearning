{
 "cells": [
  {
   "cell_type": "markdown",
   "id": "c9fc35b2",
   "metadata": {},
   "source": [
    "# 2 预备知识"
   ]
  },
  {
   "cell_type": "markdown",
   "id": "98a57590",
   "metadata": {},
   "source": [
    "## 2.1 数据操作"
   ]
  },
  {
   "cell_type": "code",
   "execution_count": null,
   "id": "3b847827",
   "metadata": {},
   "outputs": [],
   "source": [
    "#相关代码块，可根据实际q'k"
   ]
  }
 ],
 "metadata": {
  "kernelspec": {
   "display_name": "Python 3 (ipykernel)",
   "language": "python",
   "name": "python3"
  },
  "language_info": {
   "codemirror_mode": {
    "name": "ipython",
    "version": 3
   },
   "file_extension": ".py",
   "mimetype": "text/x-python",
   "name": "python",
   "nbconvert_exporter": "python",
   "pygments_lexer": "ipython3",
   "version": "3.8.13"
  }
 },
 "nbformat": 4,
 "nbformat_minor": 5
}
