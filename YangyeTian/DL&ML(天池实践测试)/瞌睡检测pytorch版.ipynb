{
 "cells": [
  {
   "cell_type": "code",
   "execution_count": 1,
   "id": "3b0edb96",
   "metadata": {},
   "outputs": [],
   "source": [
    "import torch\n",
    "import cv2\n",
    "import os\n",
    "import matplotlib.pyplot as plt\n",
    "import numpy as np\n",
    "from PIL import Image\n",
    "import matplotlib.pyplot as plt\n",
    "from torch.utils import data as Data\n",
    "from torchvision import transforms\n",
    "from torch import nn"
   ]
  },
  {
   "cell_type": "code",
   "execution_count": 2,
   "id": "553b5f9a",
   "metadata": {
    "scrolled": true
   },
   "outputs": [],
   "source": [
    "# 定义自己的train Dataset\n",
    "class MyDataset(Data.Dataset):\n",
    "    def __init__(self, path, label):\n",
    "        super(MyDataset, self).__init__()\n",
    "        self.path = path\n",
    "        self.label = torch.LongTensor(label)  # 标签值为int类型\n",
    "\n",
    "    def __getitem__(self, index):\n",
    "        # # 打开图片\n",
    "        # img_as_img = Image.open(self.path[index])\n",
    "        # # 设置好需要转换的变量，还可以包括一系列的nomarlize等等操作\n",
    "        # transform = transforms.Compose([\n",
    "        #     transforms.Resize((224, 224)),\n",
    "        #     transforms.ToTensor()\n",
    "        # ])\n",
    "        # img = transform(img_as_img)\n",
    "        \n",
    "        # 由于图片是灰度图，读出来形状是（1，224，224）而后面检测使用的opencv读出来是（3，244，244）\n",
    "        # 故采用opencv的方式读取图片        \n",
    "\n",
    "        img_as_img = cv2.imread(self.path[index], cv2.IMREAD_GRAYSCALE)\n",
    "        backtorgb = cv2.cvtColor(img_as_img, cv2.COLOR_GRAY2RGB)\n",
    "        img_size = 224\n",
    "        new_array = cv2.resize(backtorgb, (img_size, img_size))  # [224,224,3]\n",
    "        new_array = np.transpose(new_array, [2,0,1])  # 维度变换 [3,224,224]\n",
    "        img = torch.Tensor(new_array)  # 转换为张量\n",
    "\n",
    "        label = self.label[index]\n",
    "        return (img, label)\n",
    "\n",
    "    def __len__(self):\n",
    "        return len(self.label)\n",
    "\n",
    "\n",
    "def read_data(batch_size, train_split, valid_split):\n",
    "\n",
    "    base_path = \"E:\\Code\\Python\\DeepLearningCompetition\\eye\\mrlEyes_2018_01\\s000\"\n",
    "    imgs_pathes = []\n",
    "    imgs_labels = []\n",
    "    \n",
    "\n",
    "    for i in range(9):\n",
    "        path = base_path + str(i+1)\n",
    "        imgs = os.listdir(path)  # 获取文件名\n",
    "        for img in imgs:\n",
    "            # s0001_00280_0_0_0_0_0_01.png 第三个0表示闭眼，为1则表示睁眼\n",
    "            label = int(str(img)[14:15])\n",
    "            imgs_pathes.append(path + \"\\\\\" + img)\n",
    "            imgs_labels.append(label)\n",
    "  \n",
    "    dataset = MyDataset(imgs_pathes, imgs_labels)\n",
    "    # 划分训练集，验证集\n",
    "    train_size = int(len(dataset) * train_split)\n",
    "    valid_size = len(dataset) - train_size\n",
    "    train_dataset, valid_dataset = Data.random_split(dataset, [train_size, valid_size])  # 随机划分训练集和验证集\n",
    "\n",
    "    train_loader = Data.DataLoader(train_dataset, batch_size=batch_size, shuffle=True, num_workers=0)  # 加载DataLoader\n",
    "    valid_loader = Data.DataLoader(valid_dataset, batch_size=batch_size, shuffle=True, num_workers=0)\n",
    "\n",
    "    return train_loader, valid_loader"
   ]
  },
  {
   "cell_type": "code",
   "execution_count": 3,
   "id": "b7ae7e83",
   "metadata": {},
   "outputs": [],
   "source": [
    "# 定义训练函数\n",
    "def train_model(train_loader, model, criterion, optimizer, device):\n",
    "    model.train()\n",
    "    train_loss = []\n",
    "    train_acc = []\n",
    "\n",
    "    for i, data in enumerate(train_loader, 0):\n",
    "\n",
    "        inputs, labels = data[0].cuda(), data[1].cuda()  # 获取数据\n",
    "\n",
    "        outputs = model(inputs)  # 预测结果\n",
    "        \n",
    "        _, pred = outputs.max(1)  # 求概率最大值对应的标签\n",
    "\n",
    "        num_correct = (pred == labels).sum().item()\n",
    "        acc = num_correct / len(labels)  # 计算准确率\n",
    "\n",
    "        loss = criterion(outputs, labels)  # 计算loss\n",
    "        optimizer.zero_grad()  # 梯度清0\n",
    "        loss.backward()  # 反向传播\n",
    "        optimizer.step()  # 更新系数\n",
    "\n",
    "        train_loss.append(loss.item())\n",
    "        train_acc.append(acc)\n",
    "\n",
    "    return np.mean(train_loss), np.mean(train_acc)\n",
    "\n",
    "\n",
    "# 定义测试函数，具体结构与训练函数相似\n",
    "def test_model(test_loader, criterion, model, device):\n",
    "    model.eval()\n",
    "    test_loss = []\n",
    "    test_acc = []\n",
    "\n",
    "    for i, data in enumerate(test_loader, 0):\n",
    " \n",
    "        inputs, labels = data[0].cuda(), data[1].cuda()\n",
    "        # print(inputs.shape)\n",
    "        outputs = model(inputs)\n",
    "        loss = criterion(outputs, labels)\n",
    "\n",
    "        _, pred = outputs.max(1)\n",
    "\n",
    "        num_correct = (pred == labels).sum().item()\n",
    "        acc = num_correct / len(labels)\n",
    "        # 测试不需要反向传播\n",
    "        test_loss.append(loss.item())\n",
    "        test_acc.append(acc)\n",
    "\n",
    "    return np.mean(test_loss), np.mean(test_acc)"
   ]
  },
  {
   "cell_type": "code",
   "execution_count": 4,
   "id": "a40b605b",
   "metadata": {},
   "outputs": [],
   "source": [
    "net = nn.Sequential(\n",
    "    # 这里网络采用了AlexNet的卷积网络    \n",
    "    nn.Conv2d(3, 96, kernel_size=11, stride=4, padding=1), nn.ReLU(),\n",
    "    nn.MaxPool2d(kernel_size=3, stride=2),\n",
    "    nn.Conv2d(96, 256, kernel_size=5, padding=2), nn.ReLU(),\n",
    "    nn.MaxPool2d(kernel_size=3, stride=2),\n",
    "    nn.Conv2d(256, 384, kernel_size=3, padding=1), nn.ReLU(),\n",
    "    nn.Conv2d(384, 384, kernel_size=3, padding=1), nn.ReLU(),\n",
    "    nn.Conv2d(384, 256, kernel_size=3, padding=1), nn.ReLU(),\n",
    "    nn.MaxPool2d(kernel_size=3, stride=2),\n",
    "    nn.Flatten(),\n",
    "    nn.Linear(6400, 4096), nn.ReLU(),\n",
    "    nn.Dropout(p=0.5),\n",
    "    nn.Linear(4096, 4096), nn.ReLU(),\n",
    "    nn.Dropout(p=0.5),\n",
    "    nn.Linear(4096, 2))"
   ]
  },
  {
   "cell_type": "markdown",
   "id": "de08508b",
   "metadata": {
    "pycharm": {
     "name": "#%% md\n"
    }
   },
   "source": [
    "训练二分类模型"
   ]
  },
  {
   "cell_type": "code",
   "execution_count": 9,
   "id": "da028bb4",
   "metadata": {
    "pycharm": {
     "name": "#%%\n"
    }
   },
   "outputs": [
    {
     "name": "stdout",
     "output_type": "stream",
     "text": [
      "cuda:1\n",
      "******开始读取数据******\n",
      "******开始训练模型******\n",
      "- Epoch: 0 - Train_loss: 0.02191 - Train_acc: 0.99330 - Val_loss: 0.00981 - Val_acc: 0.997786\n",
      "- Epoch: 1 - Train_loss: 0.00586 - Train_acc: 0.99855 - Val_loss: 0.00782 - Val_acc: 0.996809\n",
      "- Epoch: 2 - Train_loss: 0.00348 - Train_acc: 0.99922 - Val_loss: 0.00643 - Val_acc: 0.998047\n",
      "- Epoch: 3 - Train_loss: 0.00491 - Train_acc: 0.99877 - Val_loss: 0.01310 - Val_acc: 0.997786\n",
      "- Epoch: 4 - Train_loss: 0.00345 - Train_acc: 0.99922 - Val_loss: 0.01543 - Val_acc: 0.998047\n",
      "- Epoch: 5 - Train_loss: 0.00593 - Train_acc: 0.99900 - Val_loss: 0.00650 - Val_acc: 0.999023\n",
      "- Epoch: 6 - Train_loss: 0.00796 - Train_acc: 0.99855 - Val_loss: 0.02243 - Val_acc: 0.990950\n",
      "- Epoch: 7 - Train_loss: 0.01356 - Train_acc: 0.99587 - Val_loss: 0.04169 - Val_acc: 0.987498\n",
      "- Epoch: 8 - Train_loss: 0.00492 - Train_acc: 0.99877 - Val_loss: 0.00831 - Val_acc: 0.996094\n",
      "- Epoch: 9 - Train_loss: 0.00412 - Train_acc: 0.99955 - Val_loss: 0.00317 - Val_acc: 0.999023\n"
     ]
    }
   ],
   "source": [
    "device = torch.device(\"cuda:1\" if torch.cuda.is_available() else \"cpu\")\n",
    "print(device)\n",
    "model = net.cuda()  # 初始化模型，\n",
    "criterion = nn.CrossEntropyLoss()\n",
    "optimizer = torch.optim.Adam(model.parameters(), lr=0.0001)  # 使用Adam优化算法\n",
    "\n",
    "batch_size = 256\n",
    "train_split = 0.9  # 训练集比例\n",
    "valid_split = 0.1  # 测试机比例\n",
    "epoch = 10\n",
    "\n",
    "print('******开始读取数据******')\n",
    "train_loader, valid_loader = read_data(batch_size, train_split, valid_split)\n",
    "print('******开始训练模型******')\n",
    "for epoch in range(epoch):\n",
    "    time_all = 0\n",
    "    train_loss, train_acc = train_model(train_loader, model, criterion, optimizer, device)  # 训练模型\n",
    "    valid_loss, valid_acc = test_model(valid_loader, criterion, model, device)  # 测试模型\n",
    "    print('- Epoch: %d - Train_loss: %.5f - Train_acc: %.5f - Val_loss: %.5f - Val_acc: %5f'\n",
    "        % (epoch, train_loss, train_acc, valid_loss, valid_acc))\n",
    "torch.cuda.empty_cache()"
   ]
  },
  {
   "cell_type": "markdown",
   "id": "ee5a2963",
   "metadata": {
    "pycharm": {
     "name": "#%% md\n"
    }
   },
   "source": [
    "调用相机进行识别"
   ]
  },
  {
   "cell_type": "code",
   "execution_count": 1,
   "id": "f83b745d",
   "metadata": {
    "pycharm": {
     "name": "#%%\n"
    }
   },
   "outputs": [
    {
     "ename": "NameError",
     "evalue": "name 'model' is not defined",
     "output_type": "error",
     "traceback": [
      "\u001b[1;31m---------------------------------------------------------------------------\u001b[0m",
      "\u001b[1;31mNameError\u001b[0m                                 Traceback (most recent call last)",
      "Input \u001b[1;32mIn [1]\u001b[0m, in \u001b[0;36m<cell line: 14>\u001b[1;34m()\u001b[0m\n\u001b[0;32m     12\u001b[0m cap\u001b[38;5;241m.\u001b[39mset(cv2\u001b[38;5;241m.\u001b[39mCAP_PROP_FPS, \u001b[38;5;241m5\u001b[39m)\n\u001b[0;32m     13\u001b[0m counter \u001b[38;5;241m=\u001b[39m \u001b[38;5;241m0\u001b[39m\n\u001b[1;32m---> 14\u001b[0m \u001b[43mmodel\u001b[49m\u001b[38;5;241m.\u001b[39mcpu()  \u001b[38;5;66;03m# 将刚刚的模型换成cpu模式\u001b[39;00m\n\u001b[0;32m     15\u001b[0m \u001b[38;5;28;01mwhile\u001b[39;00m \u001b[38;5;28;01mTrue\u001b[39;00m:\n\u001b[0;32m     16\u001b[0m     ret,frame \u001b[38;5;241m=\u001b[39m cap\u001b[38;5;241m.\u001b[39mread()\n",
      "\u001b[1;31mNameError\u001b[0m: name 'model' is not defined"
     ]
    }
   ],
   "source": [
    "import winsound\n",
    "frequency = 2500  # Set frequency to 2500\n",
    "duration = 1500  # Set duration to 1500 ms == 1.5 sec\n",
    "import numpy as np\n",
    "import cv2\n",
    "path = \"haarcascade_frontalface_default.xml\"\n",
    "faceCascade = cv2.CascadeClassifier(cv2.data.haarcascades + \"haarcascade_frontalface_default.xml\")\n",
    "cap = cv2.VideoCapture(1)\n",
    "#check if webcam is opened correctly\n",
    "if not cap.isOpened():\n",
    "    cap = cv2.VideoCapture(0)\n",
    "cap.set(cv2.CAP_PROP_FPS, 5)\n",
    "counter = 0\n",
    "model.cpu()  # 将刚刚的模型换成cpu模式\n",
    "while True:\n",
    "    ret,frame = cap.read()\n",
    "    eye_cascade = cv2.CascadeClassifier(cv2.data.haarcascades + 'haarcascade_eye.xml')\n",
    "    gray = cv2.cvtColor(frame, cv2.COLOR_BGR2GRAY)\n",
    "    eyes = eye_cascade.detectMultiScale(gray, 1.1, 4)\n",
    "    for x,y,w,h in eyes:\n",
    "        roi_gray = gray[y:y+h, x:x+w]\n",
    "        roi_color = frame[y:y+h, x:x+w]\n",
    "        cv2.rectangle(frame, (x,y), (x+w,y+h), (0, 255, 0), 2)\n",
    "        eyess = eye_cascade.detectMultiScale(roi_gray)\n",
    "        if len(eyess) == 0:\n",
    "            print(\"Eyes are not detected\")\n",
    "        else:\n",
    "            for (ex, ey, ew, eh) in eyess:\n",
    "                eyes_roi = roi_color[ey: ey+eh, ex: ex+ew]\n",
    "    gray = cv2.cvtColor(frame, cv2.COLOR_BGR2GRAY)\n",
    "    if(faceCascade.empty()==False):\n",
    "        print(\"detected\")\n",
    "    faces = faceCascade.detectMultiScale(gray, 1.1, 4)\n",
    "    # Draw a rectangle around eyes\n",
    "    for (x,y,w,h) in faces:\n",
    "        cv2.rectangle(frame, (x, y), (x+w, y+h), (0, 255, 0), 2)\n",
    "    font = cv2.FONT_HERSHEY_SIMPLEX\n",
    "    final_image = cv2.resize(eyes_roi, (224,224))\n",
    "    final_image = np.expand_dims(final_image, axis=0)\n",
    "    final_image = final_image/255.0  #（1，224，224，3）\n",
    "    \n",
    "    \n",
    "    img_list = list(final_image)  # 元组转变为列表\n",
    "    final_image = np.transpose(img_list, [0,3,1,2])  # 变换维度[1,3,224,224]\n",
    "    input = torch.Tensor(final_image)  # 转变为张量\n",
    "    _, Predictions = model(input).max(1)  \n",
    "\n",
    "    \n",
    "#     Predictions = new_model.predict(final_image)\n",
    "    if (Predictions>=0.3):\n",
    "        status = \"Open Eyes\"\n",
    "        cv2.putText(frame,\n",
    "                status,\n",
    "                (150,150),\n",
    "                font, 3,\n",
    "                (0, 255, 0),\n",
    "                2,\n",
    "                cv2.LINE_4)\n",
    "        x1,y1,w1,h1 = 0,0,175,75\n",
    "        cv2.rectangle(frame, (x1, y1), (x1 + w1, y1 + h1), (0,0,0), -1)\n",
    "        #Add text\n",
    "        cv2.putText(frame, 'Active', (x1 + int(w1/10),y1 + int(h1/2)), cv2.FONT_HERSHEY_SIMPLEX, 0.7, (0,255,0), 2)\n",
    "    elif Predictions<0.3:\n",
    "        counter = counter + 1\n",
    "        status = \"Closed Eyes\"\n",
    "        cv2.putText(frame,\n",
    "                status,\n",
    "                (150,150),\n",
    "                font, 3,\n",
    "                (0, 0, 255),\n",
    "                2,\n",
    "                cv2.LINE_4)\n",
    "        x1,y1,w1,h1 = 0,0,175,75\n",
    "        cv2.rectangle(frame, (x1,y1), (x1 + w1, y1 + h1), (0,0,255), 2)\n",
    "        if counter > 10:\n",
    "            x1,y1,w1,h1 = 0,0,175,75\n",
    "            #Draw black background rectangle\n",
    "            cv2.rectangle(frame, (x1, y1), (x1 + w1, y1 + h1), (0,0,0), -1)\n",
    "            #Add text\n",
    "            cv2.putText(frame, \"Sleep Alert !!!\", (x1 + int(w1/10), y1 + int(h1/2)), cv2.FONT_HERSHEY_SIMPLEX, 0.7, (0,0,255), 2)\n",
    "            winsound.Beep(frequency, duration)\n",
    "            counter = 0\n",
    "    cv2.imshow(\"Drowsiness Detection\", frame)\n",
    "    if cv2.waitKey(2) & 0xFF == ord('q'):\n",
    "        break\n",
    "cap.release()\n",
    "cv2.destroyAllWindows()"
   ]
  },
  {
   "cell_type": "code",
   "execution_count": null,
   "id": "e9d3037c",
   "metadata": {
    "pycharm": {
     "name": "#%%\n"
    }
   },
   "outputs": [],
   "source": []
  },
  {
   "cell_type": "code",
   "execution_count": null,
   "id": "e0b440ee",
   "metadata": {
    "scrolled": true
   },
   "outputs": [],
   "source": []
  },
  {
   "cell_type": "code",
   "execution_count": null,
   "id": "2826c1b2",
   "metadata": {},
   "outputs": [],
   "source": []
  },
  {
   "cell_type": "code",
   "execution_count": null,
   "id": "f38c0988",
   "metadata": {},
   "outputs": [],
   "source": []
  }
 ],
 "metadata": {
  "kernelspec": {
   "display_name": "Python 3 (ipykernel)",
   "language": "python",
   "name": "python3"
  },
  "language_info": {
   "codemirror_mode": {
    "name": "ipython",
    "version": 3
   },
   "file_extension": ".py",
   "mimetype": "text/x-python",
   "name": "python",
   "nbconvert_exporter": "python",
   "pygments_lexer": "ipython3",
   "version": "3.8.13"
  },
  "pycharm": {
   "stem_cell": {
    "cell_type": "raw",
    "metadata": {
     "collapsed": false
    },
    "source": []
   }
  }
 },
 "nbformat": 4,
 "nbformat_minor": 5
}
